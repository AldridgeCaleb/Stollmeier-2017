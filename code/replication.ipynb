{
 "cells": [
  {
   "cell_type": "markdown",
   "metadata": {
    "deletable": true,
    "editable": true
   },
   "source": [
    "# Scripts to produce all figures of the main article"
   ]
  },
  {
   "cell_type": "markdown",
   "metadata": {
    "collapsed": false,
    "deletable": true,
    "editable": true
   },
   "source": [
    "Copyright 2017: Frank Stollmeier\n",
    "\n",
    "This program is free software: you can redistribute it and/or modify\n",
    "it under the terms of the GNU General Public License as published by\n",
    "the Free Software Foundation, either version 3 of the License, or\n",
    "(at your option) any later version.\n",
    "\n",
    "This program is distributed in the hope that it will be useful,\n",
    "but WITHOUT ANY WARRANTY; without even the implied warranty of\n",
    "MERCHANTABILITY or FITNESS FOR A PARTICULAR PURPOSE.  See the\n",
    "GNU General Public License for more details.\n",
    "\n",
    "You should have received a copy of the GNU General Public License\n",
    "along with this program.  If not, see <http://www.gnu.org/licenses/>."
   ]
  },
  {
   "cell_type": "markdown",
   "metadata": {
    "deletable": true,
    "editable": true
   },
   "source": [
    "## Preparations"
   ]
  },
  {
   "cell_type": "code",
   "execution_count": 1,
   "metadata": {
    "collapsed": false,
    "deletable": true,
    "editable": true
   },
   "outputs": [],
   "source": [
    "import random\n",
    "import numpy as np\n",
    "import pyximport; pyximport.install()\n",
    "from algorithms import *\n",
    "import pylab as pl\n",
    "%matplotlib inline\n",
    "import networkx as nx\n",
    "from ipywidgets import FloatProgress\n",
    "from IPython.display import display\n",
    "dview = None"
   ]
  },
  {
   "cell_type": "markdown",
   "metadata": {
    "deletable": true,
    "editable": true
   },
   "source": [
    "If you like to run the simulations in parallel using [ipyparallel](https://ipyparallel.readthedocs.io/en/latest/index.html), start the controller and the engines, enter the profile name below, and execute the following cell.\n",
    "If you skip the following cell, everything will run on the local kernel. Without parallelization it may take hours to get accurate results, but you can get less accurate results quickly if you reduce the number of simulations with the parameters n_graphs and n_runs."
   ]
  },
  {
   "cell_type": "code",
   "execution_count": null,
   "metadata": {
    "collapsed": false,
    "deletable": true,
    "editable": true
   },
   "outputs": [],
   "source": [
    "from ipyparallel import Client\n",
    "clients = Client(profile='ssh')\n",
    "print 'Engines: ', clients.ids\n",
    "clients.block = True\n",
    "dview = clients.direct_view()\n",
    "dview.execute('''\n",
    "import random\n",
    "import numpy as np\n",
    "import networkx as nx\n",
    "import pyximport; pyximport.install()\n",
    "from algorithms import *\n",
    "''')"
   ]
  },
  {
   "cell_type": "markdown",
   "metadata": {
    "deletable": true,
    "editable": true
   },
   "source": [
    "If you don't want to run any simulations at all but just plot and inspect the results you can load saved data by executing the following cell. Then you can skip all cells which start with the comment '#simulation'."
   ]
  },
  {
   "cell_type": "code",
   "execution_count": 2,
   "metadata": {
    "collapsed": true,
    "deletable": true,
    "editable": true
   },
   "outputs": [],
   "source": [
    "import pickle\n",
    "f = open('fixation_probabilities.dat' ,'r')\n",
    "datadict = pickle.load(f)\n",
    "\n",
    "#Data of the simulations for finding the right value for the costs\n",
    "fixation_probabilities_cost_estimation = datadict['fixation_probabilities_cost_estimation']\n",
    "#Data of the birth-death process for different graph types\n",
    "circle_fixation_probabilities_100 = datadict['circle_fixation_probabilities_100']\n",
    "circle_fixation_probabilities_500 = datadict['circle_fixation_probabilities_500'] \n",
    "lattice_fixation_probabilities_100 = datadict['lattice_fixation_probabilities_100']\n",
    "lattice_fixation_probabilities_500 = datadict['lattice_fixation_probabilities_500']\n",
    "random_regular_fixation_probabilities_100 = datadict['random_regular_fixation_probabilities_100']\n",
    "random_regular_fixation_probabilities_500 = datadict['random_regular_fixation_probabilities_500']\n",
    "random_fixation_probabilities_100 = datadict['random_fixation_probabilities_100']\n",
    "random_fixation_probabilities_500 = datadict['random_fixation_probabilities_500']\n",
    "scalefree_fixation_probabilities_100 = datadict['scalefree_fixation_probabilities_100']\n",
    "scalefree_fixation_probabilities_500 = datadict['scalefree_fixation_probabilities_500']\n",
    "#Data of the imitation process for different graph types\n",
    "circle_fixation_probabilities_100_IM = datadict['circle_fixation_probabilities_100_IM']\n",
    "lattice_fixation_probabilities_100_IM = datadict['lattice_fixation_probabilities_100_IM']\n",
    "random_regular_fixation_probabilities_100_IM = datadict['random_regular_fixation_probabilities_100_IM']\n",
    "random_fixation_probabilities_100_IM = datadict['random_fixation_probabilities_100_IM']\n",
    "scalefree_fixation_probabilities_100_IM = datadict['scalefree_fixation_probabilities_100_IM']\n",
    "\n",
    "f.close()"
   ]
  },
  {
   "cell_type": "markdown",
   "metadata": {
    "deletable": true,
    "editable": true
   },
   "source": [
    "## Effect of absolute values for the benefits and costs on the fixation probability curves"
   ]
  },
  {
   "cell_type": "code",
   "execution_count": 3,
   "metadata": {
    "collapsed": true,
    "deletable": true,
    "editable": true
   },
   "outputs": [],
   "source": [
    "#parameters and functions\n",
    "\n",
    "N = 500\n",
    "k = 10\n",
    "w = 0.01\n",
    "n_graphs = 1000\n",
    "n_runs = 1000\n",
    "#For quick and less accurranate results choose smaller numbers, e.g.\n",
    "#n_graphs = 100\n",
    "#n_runs = 500\n",
    "\n",
    "cost_values = [0.05,0.10,0.125,0.15,0.2]\n",
    "benefit_to_cost_ratio_cost_estimation = np.linspace(7,17,8)\n",
    "\n",
    "def circle_graph_generator(N,k):\n",
    "    G = nx.newman_watts_strogatz_graph(N,k,0)\n",
    "    return convert_networkx_graph_to_adjacency_list(G)\n",
    "\n",
    "#For comparison, the following data is taken from Ohtsuki et al., Figure 2 a (circle graph, N=500, k=10)\n",
    "ohtsuki_bc = [7.66592,8.31695,9.08119,9.98697,11.11918,12.47784,14.26108,16.66704]\n",
    "ohtsuki_fp = [0.00020,0.00061,0.00111,0.00179,0.00259,0.00360,0.00488,0.00649]"
   ]
  },
  {
   "cell_type": "code",
   "execution_count": 11,
   "metadata": {
    "collapsed": false,
    "deletable": true,
    "editable": true
   },
   "outputs": [],
   "source": [
    "#simulation\n",
    "\n",
    "fixation_probabilities_cost_estimation = []\n",
    "fp = FloatProgress(min=0,max=len(cost_values))\n",
    "display(fp)\n",
    "for c in cost_values:\n",
    "    fixation_probabilities_cost_estimation.append( measure_fixation_probabilities(circle_graph_generator,[N,k],w,c,n_graphs,n_runs,benefit_to_cost_ratio_cost_estimation,dview=dview)) \n",
    "    fp.value += 1"
   ]
  },
  {
   "cell_type": "code",
   "execution_count": 4,
   "metadata": {
    "collapsed": false,
    "deletable": true,
    "editable": true
   },
   "outputs": [
    {
     "data": {
      "text/plain": [
       "(6.5, 17.5)"
      ]
     },
     "execution_count": 4,
     "metadata": {},
     "output_type": "execute_result"
    },
    {
     "data": {
      "image/png": "[encoded data removed]",
      "text/plain": [
       "<matplotlib.figure.Figure at 0x7f9d909ee2d0>"
      ]
     },
     "metadata": {},
     "output_type": "display_data"
    }
   ],
   "source": [
    "#visualization\n",
    "\n",
    "pl.rcParams['figure.figsize'] = (6,4)\n",
    "#pl.style.use('./style1plot.mplstyle')\n",
    "\n",
    "xdata = np.linspace(1,21,10)\n",
    "arrow_length = 0.001\n",
    "threshold = 1/float(N)\n",
    "pl.plot([10,10],[threshold+arrow_length,threshold],'k')\n",
    "for c,fp in zip(cost_values,fixation_probabilities_cost_estimation):\n",
    "    pl.plot(benefit_to_cost_ratio_cost_estimation, fp,'o-', markersize=4, label='c='+str(c))\n",
    "\n",
    "pl.plot(ohtsuki_bc,ohtsuki_fp,'ko-', label='Ohtsuki et al.')\n",
    "pl.plot(xdata, threshold*np.ones(len(xdata)),'k--',label='neutral')\n",
    "pl.xlim(benefit_to_cost_ratio_cost_estimation[0],benefit_to_cost_ratio_cost_estimation[-1])\n",
    "pl.ylim(0,0.01)\n",
    "pl.legend(loc='upper left')\n",
    "pl.xlabel('benefit-to-cost ratio b/c')\n",
    "pl.ylabel('fixation probability')\n",
    "pl.xlim(6.5,17.5)\n",
    "#pl.savefig('cost_value_estimation.svg')"
   ]
  },
  {
   "cell_type": "markdown",
   "metadata": {
    "collapsed": false,
    "deletable": true,
    "editable": true
   },
   "source": [
    "## Fixation probabilities of the death-birth process"
   ]
  },
  {
   "cell_type": "code",
   "execution_count": 7,
   "metadata": {
    "collapsed": false,
    "deletable": true,
    "editable": true
   },
   "outputs": [],
   "source": [
    "#parameters and functions\n",
    "\n",
    "w = 0.01\n",
    "c = 0.125\n",
    "n_graphs = 1000\n",
    "n_runs = 1000\n",
    "#For quick and less accurate results choose smaller numbers, e.g.\n",
    "#n_graphs = 100\n",
    "#n_runs = 500\n",
    "\n",
    "xdata = np.linspace(1,21,10)\n",
    "arrow_length = 0.001\n",
    "markeredgecolordict = {2:'red',3:'orange',4:'yellow',6:'green',8:'cyan',10:'blue'}\n",
    "markerfacecolordict = {2:'red',3:'none',4:'none',6:'none',8:'cyan',10:'blue'}\n",
    "markerdict = {2:'+',3:'^',4:'s',6:'H',8:'s',10:'D'}\n",
    "\n",
    "n_datapoints = 10\n",
    "benefit_to_cost_ratios = dict()\n",
    "benefit_to_cost_ratios[2] = np.linspace(1.2,4,n_datapoints)\n",
    "benefit_to_cost_ratios[3] = np.linspace(1.5,5,n_datapoints)\n",
    "benefit_to_cost_ratios[4] = np.linspace(2,6,n_datapoints) \n",
    "benefit_to_cost_ratios[6] = np.linspace(4,9,n_datapoints)\n",
    "benefit_to_cost_ratios[8] = np.linspace(4,14,n_datapoints)\n",
    "benefit_to_cost_ratios[10] = np.linspace(8,20,n_datapoints)\n",
    "\n",
    "def measure_fixation_probabilities_for_list_of_k_and_bc_values(graph_generator, N, k_values, n_graphs, n_runs):\n",
    "    fp = FloatProgress(min=0,max=len(k_values))\n",
    "    display(fp)\n",
    "    fixation_probabilities = []\n",
    "    for k in k_values:\n",
    "        bc = benefit_to_cost_ratios[k]\n",
    "        fixation_probabilities.append(measure_fixation_probabilities(graph_generator,[N,k],w,c,n_graphs,n_runs,bc,dview=dview))\n",
    "        fp.value += 1\n",
    "    return fixation_probabilities"
   ]
  },
  {
   "cell_type": "markdown",
   "metadata": {
    "deletable": true,
    "editable": true
   },
   "source": [
    "### Circle graph"
   ]
  },
  {
   "cell_type": "code",
   "execution_count": 34,
   "metadata": {
    "collapsed": false,
    "deletable": true,
    "editable": true
   },
   "outputs": [
    {
     "data": {
      "image/png": "[encoded data removed]",
      "text/plain": [
       "<matplotlib.figure.Figure at 0x7fddd24d7490>"
      ]
     },
     "metadata": {},
     "output_type": "display_data"
    }
   ],
   "source": [
    "#illustration of the graph type\n",
    "\n",
    "pl.figure(figsize=(3,3))\n",
    "N = 15\n",
    "G = nx.newman_watts_strogatz_graph(N,6,0)\n",
    "positions = dict([(n,(np.cos(2*np.pi*n/float(N)),np.sin(2*np.pi*n/float(N)))) for n in G.nodes()])\n",
    "nx.draw(G,pos = positions, node_size = 25)"
   ]
  },
  {
   "cell_type": "code",
   "execution_count": 13,
   "metadata": {
    "collapsed": true,
    "deletable": true,
    "editable": true
   },
   "outputs": [],
   "source": [
    "#parameters and functions\n",
    "\n",
    "circle_k_values = [2,4,6,10]\n",
    "\n",
    "def circle_graph_generator(N,k):\n",
    "    G = nx.newman_watts_strogatz_graph(N,k,0)\n",
    "    return convert_networkx_graph_to_adjacency_list(G)"
   ]
  },
  {
   "cell_type": "code",
   "execution_count": 18,
   "metadata": {
    "collapsed": false,
    "deletable": true,
    "editable": true
   },
   "outputs": [],
   "source": [
    "#simulation\n",
    "\n",
    "N = 100\n",
    "circle_fixation_probabilities_100 = measure_fixation_probabilities_for_list_of_k_and_bc_values(circle_graph_generator, N, circle_k_values, n_graphs, n_runs)"
   ]
  },
  {
   "cell_type": "code",
   "execution_count": 19,
   "metadata": {
    "collapsed": false,
    "deletable": true,
    "editable": true
   },
   "outputs": [],
   "source": [
    "#simulation\n",
    "\n",
    "N = 500\n",
    "circle_fixation_probabilities_500 = measure_fixation_probabilities_for_list_of_k_and_bc_values(circle_graph_generator, N, circle_k_values, n_graphs, n_runs)"
   ]
  },
  {
   "cell_type": "code",
   "execution_count": 14,
   "metadata": {
    "collapsed": false,
    "deletable": true,
    "editable": true
   },
   "outputs": [
    {
     "data": {
      "text/plain": [
       "<matplotlib.text.Text at 0x7fddd29df150>"
      ]
     },
     "execution_count": 14,
     "metadata": {},
     "output_type": "execute_result"
    },
    {
     "data": {
      "image/png": "[encoded data removed]",
      "text/plain": [
       "<matplotlib.figure.Figure at 0x7fddd2aa31d0>"
      ]
     },
     "metadata": {},
     "output_type": "display_data"
    }
   ],
   "source": [
    "#visualization\n",
    "\n",
    "pl.rcParams['figure.figsize'] = (10,3)\n",
    "#pl.style.use('./style2plots.mplstyle') #to produce figures for the paper\n",
    "\n",
    "pl.subplot(1,2,1)\n",
    "\n",
    "for k,fp in zip(circle_k_values, circle_fixation_probabilities_100):\n",
    "    pl.plot(benefit_to_cost_ratios[k], fp, marker=markerdict[k], markersize = 2, markeredgewidth=1, markeredgecolor=markeredgecolordict[k], markerfacecolor=markerfacecolordict[k] ,linestyle='None')\n",
    "    pl.plot([k,k], [1/100.0 + arrow_length,1/100.0], color=markeredgecolordict[k])\n",
    "\n",
    "pl.plot(xdata, np.ones(len(xdata))/100.0,'k--',label='neutral')\n",
    "\n",
    "pl.xlim(1,21)\n",
    "pl.ylim(0.006,0.014)\n",
    "pl.yticks([0.006,0.008,0.010,0.012,0.014])\n",
    "pl.ylabel(\"fixation probability\")\n",
    "pl.xlabel(\"benefit-to-cost ratio b/c\")\n",
    "\n",
    "\n",
    "pl.subplot(1,2,2)\n",
    "for k,fp in zip(circle_k_values, circle_fixation_probabilities_500):\n",
    "    pl.plot(benefit_to_cost_ratios[k], fp, marker=markerdict[k], markersize = 2, markeredgewidth=1, markeredgecolor=markeredgecolordict[k], markerfacecolor=markerfacecolordict[k] ,linestyle='None')\n",
    "    pl.plot([k,k], [1/500.0 + arrow_length,1/500.0], color=markeredgecolordict[k])\n",
    "\n",
    "pl.plot(xdata, np.ones(len(xdata))/500.0,'k--',label='neutral')\n",
    "\n",
    "pl.xlim(1,21)\n",
    "pl.ylim(0,0.008)\n",
    "pl.yticks([0,0.002,0.004,0.006,0.008])\n",
    "pl.xlabel(\"benefit-to-cost ratio b/c\")\n",
    "\n",
    "#pl.savefig('fixation_probabilities_circle.svg')"
   ]
  },
  {
   "cell_type": "markdown",
   "metadata": {
    "deletable": true,
    "editable": true
   },
   "source": [
    "### Lattice graph"
   ]
  },
  {
   "cell_type": "code",
   "execution_count": 15,
   "metadata": {
    "collapsed": false,
    "deletable": true,
    "editable": true
   },
   "outputs": [
    {
     "data": {
      "image/png": "[encoded data removed]",
      "text/plain": [
       "<matplotlib.figure.Figure at 0x7fddd2afd750>"
      ]
     },
     "metadata": {},
     "output_type": "display_data"
    }
   ],
   "source": [
    "#illustration of the graph type\n",
    "\n",
    "pl.figure(figsize=(3,3))\n",
    "G = nx.grid_graph(dim=[5,5])\n",
    "positions = dict([(n,n) for n in G.nodes()])\n",
    "nx.draw(G,pos=positions, node_size = 25)"
   ]
  },
  {
   "cell_type": "code",
   "execution_count": 16,
   "metadata": {
    "collapsed": true,
    "deletable": true,
    "editable": true
   },
   "outputs": [],
   "source": [
    "#parameters and functions\n",
    "\n",
    "def lattice_graph3(N1,N2):\n",
    "    G = create_hexagonal_lattice_graph(N1,N2)\n",
    "    return convert_networkx_graph_to_adjacency_list(G)\n",
    "def lattice_graph4(N1,N2):\n",
    "    G = create_square_lattice_graph4(N1,N2)\n",
    "    return convert_networkx_graph_to_adjacency_list(G)\n",
    "def lattice_graph6(N1,N2):\n",
    "    G = create_square_lattice_graph6(N1,N2)\n",
    "    return convert_networkx_graph_to_adjacency_list(G)\n",
    "def lattice_graph8(N1,N2):\n",
    "    G = create_triangular_lattice_graph(N1,N2)\n",
    "    return convert_networkx_graph_to_adjacency_list(G)\n",
    "\n",
    "lattice_k_values = [3,4,6,8]"
   ]
  },
  {
   "cell_type": "code",
   "execution_count": 23,
   "metadata": {
    "collapsed": false,
    "deletable": true,
    "editable": true
   },
   "outputs": [],
   "source": [
    "#simulation\n",
    "\n",
    "N = 100\n",
    "\n",
    "fp = FloatProgress(min=0,max=4)\n",
    "display(fp)\n",
    "\n",
    "lattice_fixation_probabilities3_100 = measure_fixation_probabilities(lattice_graph3,[10,15],w,c,n_graphs,n_runs,benefit_to_cost_ratios[3],dview=dview)\n",
    "fp.value += 1\n",
    "\n",
    "lattice_fixation_probabilities4_100 = measure_fixation_probabilities(lattice_graph4,[10,10],w,c,n_graphs,n_runs,benefit_to_cost_ratios[4],dview=dview)\n",
    "fp.value += 1\n",
    "\n",
    "lattice_fixation_probabilities6_100 = measure_fixation_probabilities(lattice_graph6,[10,10],w,c,n_graphs,n_runs,benefit_to_cost_ratios[6],dview=dview)\n",
    "fp.value += 1\n",
    "\n",
    "lattice_fixation_probabilities8_100 = measure_fixation_probabilities(lattice_graph8,[10,10],w,c,n_graphs,n_runs,benefit_to_cost_ratios[8],dview=dview)\n",
    "fp.value += 1\n",
    "\n",
    "lattice_fixation_probabilities_100 = [lattice_fixation_probabilities3_100, lattice_fixation_probabilities4_100, lattice_fixation_probabilities6_100, lattice_fixation_probabilities8_100]"
   ]
  },
  {
   "cell_type": "code",
   "execution_count": 24,
   "metadata": {
    "collapsed": false,
    "deletable": true,
    "editable": true
   },
   "outputs": [],
   "source": [
    "#simulation\n",
    "\n",
    "N = 500\n",
    "\n",
    "fp = FloatProgress(min=0,max=4)\n",
    "display(fp)\n",
    "\n",
    "lattice_fixation_probabilities3_500 = measure_fixation_probabilities(lattice_graph3,[25,30],w,c,n_graphs,n_runs,benefit_to_cost_ratios[3],dview=dview)\n",
    "fp.value += 1\n",
    "\n",
    "lattice_fixation_probabilities4_500 = measure_fixation_probabilities(lattice_graph4,[20,25],w,c,n_graphs,n_runs,benefit_to_cost_ratios[4],dview=dview)\n",
    "fp.value += 1\n",
    "\n",
    "lattice_fixation_probabilities6_500 = measure_fixation_probabilities(lattice_graph6,[20,25],w,c,n_graphs,n_runs,benefit_to_cost_ratios[6],dview=dview)\n",
    "fp.value += 1\n",
    "\n",
    "lattice_fixation_probabilities8_500 = measure_fixation_probabilities(lattice_graph8,[20,25],w,c,n_graphs,n_runs,benefit_to_cost_ratios[8],dview=dview)\n",
    "fp.value += 1\n",
    "\n",
    "lattice_fixation_probabilities_500 = [lattice_fixation_probabilities3_500, lattice_fixation_probabilities4_500, lattice_fixation_probabilities6_500, lattice_fixation_probabilities8_500]"
   ]
  },
  {
   "cell_type": "code",
   "execution_count": 17,
   "metadata": {
    "collapsed": false,
    "deletable": true,
    "editable": true
   },
   "outputs": [
    {
     "data": {
      "text/plain": [
       "<matplotlib.text.Text at 0x7fddd273eed0>"
      ]
     },
     "execution_count": 17,
     "metadata": {},
     "output_type": "execute_result"
    },
    {
     "data": {
      "image/png": "[encoded data removed]",
      "text/plain": [
       "<matplotlib.figure.Figure at 0x7fddd2809e90>"
      ]
     },
     "metadata": {},
     "output_type": "display_data"
    }
   ],
   "source": [
    "#visualization\n",
    "\n",
    "pl.rcParams['figure.figsize'] = (10,3)\n",
    "#pl.style.use('./style2plots.mplstyle') #to produce figures for the paper\n",
    "\n",
    "pl.subplot(1,2,1)\n",
    "\n",
    "for k,fp in zip(lattice_k_values, lattice_fixation_probabilities_100):\n",
    "    pl.plot(benefit_to_cost_ratios[k], fp, marker=markerdict[k], markersize = 2, markeredgewidth=1, markeredgecolor=markeredgecolordict[k], markerfacecolor=markerfacecolordict[k] ,linestyle='None')\n",
    "    pl.plot([k,k], [1/100.0 + arrow_length,1/100.0], color=markeredgecolordict[k])\n",
    "\n",
    "pl.plot(xdata, np.ones(len(xdata))/100.0,'k--',label='neutral')\n",
    "\n",
    "pl.xlim(1,21)\n",
    "pl.ylim(0.006,0.014)\n",
    "pl.yticks([0.006,0.008,0.010,0.012,0.014])\n",
    "pl.ylabel(\"fixation probability\")\n",
    "pl.xlabel(\"benefit-to-cost ratio b/c\")\n",
    "\n",
    "\n",
    "pl.subplot(1,2,2)\n",
    "for k,fp in zip(lattice_k_values, lattice_fixation_probabilities_500):\n",
    "    pl.plot(benefit_to_cost_ratios[k], fp, marker=markerdict[k], markersize = 2, markeredgewidth=1, markeredgecolor=markeredgecolordict[k], markerfacecolor=markerfacecolordict[k] ,linestyle='None')\n",
    "    pl.plot([k,k], [1/500.0 + arrow_length,1/500.0], color=markeredgecolordict[k])\n",
    "\n",
    "pl.plot(xdata, np.ones(len(xdata))/500.0,'k--',label='neutral')\n",
    "\n",
    "pl.xlim(1,21)\n",
    "pl.ylim(0,0.008)\n",
    "pl.yticks([0,0.002,0.004,0.006,0.008])\n",
    "pl.xlabel(\"benefit-to-cost ratio b/c\")\n",
    "\n",
    "#pl.savefig('fixation_probabilities_lattice.svg')"
   ]
  },
  {
   "cell_type": "markdown",
   "metadata": {
    "deletable": true,
    "editable": true
   },
   "source": [
    "### Random regular graph"
   ]
  },
  {
   "cell_type": "code",
   "execution_count": 18,
   "metadata": {
    "collapsed": false,
    "deletable": true,
    "editable": true
   },
   "outputs": [
    {
     "data": {
      "image/png": "[encoded data removed]",
      "text/plain": [
       "<matplotlib.figure.Figure at 0x7fddd2a883d0>"
      ]
     },
     "metadata": {},
     "output_type": "display_data"
    }
   ],
   "source": [
    "#illustration of the graph type\n",
    "\n",
    "pl.figure(figsize=(3,3))\n",
    "G = nx.random_regular_graph(4,20) \n",
    "nx.draw(G, node_size = 25)"
   ]
  },
  {
   "cell_type": "code",
   "execution_count": 19,
   "metadata": {
    "collapsed": true,
    "deletable": true,
    "editable": true
   },
   "outputs": [],
   "source": [
    "#parameters and functions\n",
    "\n",
    "random_regular_k_values = [3,4,6,10]\n",
    "\n",
    "def random_regular_graph_generator(N,k):\n",
    "    G = nx.random_regular_graph(k,N) \n",
    "    while not nx.is_connected(G):\n",
    "        G = nx.random_regular_graph(k,N)\n",
    "    return convert_networkx_graph_to_adjacency_list(G)"
   ]
  },
  {
   "cell_type": "code",
   "execution_count": 28,
   "metadata": {
    "collapsed": false,
    "deletable": true,
    "editable": true
   },
   "outputs": [],
   "source": [
    "#simulation\n",
    "\n",
    "N = 100\n",
    "random_regular_fixation_probabilities_100 = measure_fixation_probabilities_for_list_of_k_and_bc_values(random_regular_graph_generator, N, random_regular_k_values, n_graphs, n_runs)"
   ]
  },
  {
   "cell_type": "code",
   "execution_count": 29,
   "metadata": {
    "collapsed": false,
    "deletable": true,
    "editable": true
   },
   "outputs": [],
   "source": [
    "#simulation\n",
    "\n",
    "N = 500\n",
    "random_regular_fixation_probabilities_500 = measure_fixation_probabilities_for_list_of_k_and_bc_values(random_regular_graph_generator, N, random_regular_k_values, n_graphs, n_runs)"
   ]
  },
  {
   "cell_type": "code",
   "execution_count": 20,
   "metadata": {
    "collapsed": false,
    "deletable": true,
    "editable": true
   },
   "outputs": [
    {
     "data": {
      "text/plain": [
       "<matplotlib.text.Text at 0x7fddd2f8e1d0>"
      ]
     },
     "execution_count": 20,
     "metadata": {},
     "output_type": "execute_result"
    },
    {
     "data": {
      "image/png": "[encoded data removed]",
      "text/plain": [
       "<matplotlib.figure.Figure at 0x7fddd2d84250>"
      ]
     },
     "metadata": {},
     "output_type": "display_data"
    }
   ],
   "source": [
    "#visualization\n",
    "\n",
    "pl.rcParams['figure.figsize'] = (10,3)\n",
    "#pl.style.use('./style2plots.mplstyle') #to produce figures for the paper\n",
    "\n",
    "pl.subplot(1,2,1)\n",
    "\n",
    "for k,fp in zip(random_regular_k_values, random_regular_fixation_probabilities_100):\n",
    "    pl.plot(benefit_to_cost_ratios[k], fp, marker=markerdict[k], markersize = 2, markeredgewidth=1, markeredgecolor=markeredgecolordict[k], markerfacecolor=markerfacecolordict[k] ,linestyle='None')\n",
    "    pl.plot([k,k], [1/100.0 + arrow_length,1/100.0], color=markeredgecolordict[k])\n",
    "\n",
    "pl.plot(xdata, np.ones(len(xdata))/100.0,'k--',label='neutral')\n",
    "\n",
    "pl.xlim(1,21)\n",
    "pl.ylim(0.006,0.014)\n",
    "pl.yticks([0.006,0.008,0.010,0.012,0.014])\n",
    "pl.ylabel(\"fixation probability\")\n",
    "pl.xlabel(\"benefit-to-cost ratio b/c\")\n",
    "\n",
    "\n",
    "pl.subplot(1,2,2)\n",
    "for k,fp in zip(random_regular_k_values, random_regular_fixation_probabilities_500):\n",
    "    pl.plot(benefit_to_cost_ratios[k], fp, marker=markerdict[k], markersize = 2, markeredgewidth=1, markeredgecolor=markeredgecolordict[k], markerfacecolor=markerfacecolordict[k] ,linestyle='None')\n",
    "    pl.plot([k,k], [1/500.0 + arrow_length,1/500.0], color=markeredgecolordict[k])\n",
    "\n",
    "pl.plot(xdata, np.ones(len(xdata))/500.0,'k--',label='neutral')\n",
    "\n",
    "pl.xlim(1,21)\n",
    "pl.ylim(0,0.008)\n",
    "pl.yticks([0,0.002,0.004,0.006,0.008])\n",
    "pl.xlabel(\"benefit-to-cost ratio b/c\")\n",
    "\n",
    "#pl.savefig('fixation_probabilities_random_regular.svg')"
   ]
  },
  {
   "cell_type": "markdown",
   "metadata": {
    "deletable": true,
    "editable": true
   },
   "source": [
    "### Random graph"
   ]
  },
  {
   "cell_type": "code",
   "execution_count": 21,
   "metadata": {
    "collapsed": false,
    "deletable": true,
    "editable": true
   },
   "outputs": [
    {
     "data": {
      "image/png": "[encoded data removed]",
      "text/plain": [
       "<matplotlib.figure.Figure at 0x7fddd2a7f690>"
      ]
     },
     "metadata": {},
     "output_type": "display_data"
    }
   ],
   "source": [
    "#illustration of the graph type\n",
    "\n",
    "pl.figure(figsize=(3,3))\n",
    "G = create_connected_random_graph(20,4)\n",
    "nx.draw(G, node_size = 25)"
   ]
  },
  {
   "cell_type": "code",
   "execution_count": 22,
   "metadata": {
    "collapsed": true,
    "deletable": true,
    "editable": true
   },
   "outputs": [],
   "source": [
    "#parameters and functions\n",
    "\n",
    "def random_graph_generator(N,k):\n",
    "    G = create_connected_random_graph(N,k)\n",
    "    return convert_networkx_graph_to_adjacency_list(G)\n",
    "\n",
    "random_k_values = [3,4,6,10]"
   ]
  },
  {
   "cell_type": "code",
   "execution_count": 33,
   "metadata": {
    "collapsed": true,
    "deletable": true,
    "editable": true
   },
   "outputs": [],
   "source": [
    "#simulations\n",
    "\n",
    "N = 100\n",
    "random_fixation_probabilities_100 = measure_fixation_probabilities_for_list_of_k_and_bc_values(random_graph_generator, N, random_k_values, n_graphs, n_runs)"
   ]
  },
  {
   "cell_type": "code",
   "execution_count": 34,
   "metadata": {
    "collapsed": true,
    "deletable": true,
    "editable": true
   },
   "outputs": [],
   "source": [
    "#simulations\n",
    "\n",
    "N = 500\n",
    "random_fixation_probabilities_500 = measure_fixation_probabilities_for_list_of_k_and_bc_values(random_graph_generator, N, random_k_values, n_graphs, n_runs)"
   ]
  },
  {
   "cell_type": "code",
   "execution_count": 23,
   "metadata": {
    "collapsed": false,
    "deletable": true,
    "editable": true
   },
   "outputs": [
    {
     "data": {
      "text/plain": [
       "<matplotlib.text.Text at 0x7fddd2648b10>"
      ]
     },
     "execution_count": 23,
     "metadata": {},
     "output_type": "execute_result"
    },
    {
     "data": {
      "image/png": "[encoded data removed]",
      "text/plain": [
       "<matplotlib.figure.Figure at 0x7fddd2b7eb90>"
      ]
     },
     "metadata": {},
     "output_type": "display_data"
    }
   ],
   "source": [
    "#visualization\n",
    "\n",
    "pl.rcParams['figure.figsize'] = (10,3)\n",
    "#pl.style.use('./style2plots.mplstyle') #to produce figures for the paper\n",
    "\n",
    "pl.subplot(1,2,1)\n",
    "\n",
    "for k,fp in zip(random_k_values, random_fixation_probabilities_100):\n",
    "    pl.plot(benefit_to_cost_ratios[k], fp, marker=markerdict[k], markersize = 2, markeredgewidth=1, markeredgecolor=markeredgecolordict[k], markerfacecolor=markerfacecolordict[k] ,linestyle='None')\n",
    "    pl.plot([k,k], [1/100.0 + arrow_length,1/100.0], color=markeredgecolordict[k])\n",
    "\n",
    "pl.plot(xdata, np.ones(len(xdata))/100.0,'k--',label='neutral')\n",
    "\n",
    "pl.xlim(1,21)\n",
    "pl.ylim(0.006,0.014)\n",
    "pl.yticks([0.006,0.008,0.010,0.012,0.014])\n",
    "pl.ylabel(\"fixation probability\")\n",
    "pl.xlabel(\"benefit-to-cost ratio b/c\")\n",
    "\n",
    "\n",
    "pl.subplot(1,2,2)\n",
    "for k,fp in zip(random_k_values, random_fixation_probabilities_500):\n",
    "    pl.plot(benefit_to_cost_ratios[k], fp, marker=markerdict[k], markersize = 2, markeredgewidth=1, markeredgecolor=markeredgecolordict[k], markerfacecolor=markerfacecolordict[k] ,linestyle='None')\n",
    "    pl.plot([k,k], [1/500.0 + arrow_length,1/500.0], color=markeredgecolordict[k])\n",
    "\n",
    "pl.plot(xdata, np.ones(len(xdata))/500.0,'k--',label='neutral')\n",
    "\n",
    "pl.xlim(1,21)\n",
    "pl.ylim(0,0.008)\n",
    "pl.yticks([0,0.002,0.004,0.006,0.008])\n",
    "pl.xlabel(\"benefit-to-cost ratio b/c\")\n",
    "\n",
    "#pl.savefig('fixation_probabilities_random.svg')"
   ]
  },
  {
   "cell_type": "markdown",
   "metadata": {
    "deletable": true,
    "editable": true
   },
   "source": [
    "### Scale-free network"
   ]
  },
  {
   "cell_type": "code",
   "execution_count": 24,
   "metadata": {
    "collapsed": false,
    "deletable": true,
    "editable": true
   },
   "outputs": [
    {
     "data": {
      "image/png": "[encoded data removed]",
      "text/plain": [
       "<matplotlib.figure.Figure at 0x7fddde0dd6d0>"
      ]
     },
     "metadata": {},
     "output_type": "display_data"
    }
   ],
   "source": [
    "#illustration of the graph type\n",
    "\n",
    "pl.figure(figsize=(3,3))\n",
    "G = nx.barabasi_albert_graph(20,6/2)\n",
    "nx.draw(G, node_size = 25)"
   ]
  },
  {
   "cell_type": "code",
   "execution_count": 25,
   "metadata": {
    "collapsed": true,
    "deletable": true,
    "editable": true
   },
   "outputs": [],
   "source": [
    "#parameters and functions\n",
    "\n",
    "def scalefree_graph_generator(N,k):\n",
    "    G = nx.barabasi_albert_graph(N,k/2)\n",
    "    while not nx.is_connected(G):\n",
    "        G = nx.barabasi_albert_graph(N,k/2)\n",
    "    return convert_networkx_graph_to_adjacency_list(G)\n",
    "\n",
    "scalefree_k_values = [2,4,6,10]"
   ]
  },
  {
   "cell_type": "code",
   "execution_count": 38,
   "metadata": {
    "collapsed": true,
    "deletable": true,
    "editable": true
   },
   "outputs": [],
   "source": [
    "#simulation\n",
    "\n",
    "N = 100\n",
    "scalefree_fixation_probabilities_100 = measure_fixation_probabilities_for_list_of_k_and_bc_values(scalefree_graph_generator, N, scalefree_k_values, n_graphs, n_runs)"
   ]
  },
  {
   "cell_type": "code",
   "execution_count": 39,
   "metadata": {
    "collapsed": true,
    "deletable": true,
    "editable": true
   },
   "outputs": [],
   "source": [
    "#simulation\n",
    "\n",
    "N = 500\n",
    "scalefree_fixation_probabilities_500 = measure_fixation_probabilities_for_list_of_k_and_bc_values(scalefree_graph_generator, N, scalefree_k_values, n_graphs, n_runs)"
   ]
  },
  {
   "cell_type": "code",
   "execution_count": 26,
   "metadata": {
    "collapsed": false,
    "deletable": true,
    "editable": true
   },
   "outputs": [
    {
     "data": {
      "text/plain": [
       "<matplotlib.text.Text at 0x7fddd23b5e50>"
      ]
     },
     "execution_count": 26,
     "metadata": {},
     "output_type": "execute_result"
    },
    {
     "data": {
      "image/png": "[encoded data removed]",
      "text/plain": [
       "<matplotlib.figure.Figure at 0x7fddd2482fd0>"
      ]
     },
     "metadata": {},
     "output_type": "display_data"
    }
   ],
   "source": [
    "#visualization\n",
    "\n",
    "pl.rcParams['figure.figsize'] = (10,3)\n",
    "#pl.style.use('./style2plots.mplstyle') #to produce figures for the paper\n",
    "\n",
    "pl.subplot(1,2,1)\n",
    "\n",
    "for k,fp in zip(scalefree_k_values, scalefree_fixation_probabilities_100):\n",
    "    pl.plot(benefit_to_cost_ratios[k], fp, marker=markerdict[k], markersize = 2, markeredgewidth=1, markeredgecolor=markeredgecolordict[k], markerfacecolor=markerfacecolordict[k] ,linestyle='None')\n",
    "    pl.plot([k,k], [1/100.0 + arrow_length,1/100.0], color=markeredgecolordict[k])\n",
    "\n",
    "pl.plot(xdata, np.ones(len(xdata))/100.0,'k--',label='neutral')\n",
    "\n",
    "pl.xlim(1,21)\n",
    "pl.ylim(0.006,0.014)\n",
    "pl.yticks([0.006,0.008,0.010,0.012,0.014])\n",
    "pl.ylabel(\"fixation probability\")\n",
    "pl.xlabel(\"benefit-to-cost ratio b/c\")\n",
    "\n",
    "\n",
    "pl.subplot(1,2,2)\n",
    "for k,fp in zip(scalefree_k_values, scalefree_fixation_probabilities_500):\n",
    "    pl.plot(benefit_to_cost_ratios[k], fp, marker=markerdict[k], markersize = 2, markeredgewidth=1, markeredgecolor=markeredgecolordict[k], markerfacecolor=markerfacecolordict[k] ,linestyle='None')\n",
    "    pl.plot([k,k], [1/500.0 + arrow_length,1/500.0], color=markeredgecolordict[k])\n",
    "\n",
    "pl.plot(xdata, np.ones(len(xdata))/500.0,'k--',label='neutral')\n",
    "\n",
    "pl.xlim(1,21)\n",
    "pl.ylim(0,0.008)\n",
    "pl.yticks([0,0.002,0.004,0.006,0.008])\n",
    "pl.xlabel(\"benefit-to-cost ratio b/c\")\n",
    "\n",
    "#pl.savefig('fixation_probabilities_scalefree.svg')"
   ]
  },
  {
   "cell_type": "markdown",
   "metadata": {
    "collapsed": false,
    "deletable": true,
    "editable": true
   },
   "source": [
    "## Fixation probabilities for the imitation process"
   ]
  },
  {
   "cell_type": "code",
   "execution_count": 27,
   "metadata": {
    "collapsed": true,
    "deletable": true,
    "editable": true
   },
   "outputs": [],
   "source": [
    "#parameters and functions\n",
    "\n",
    "w = 0.01\n",
    "c = 0.125\n",
    "n_graphs = 1000\n",
    "n_runs = 1000\n",
    "#For quick and less accurate results choose smaller numbers, e.g.\n",
    "#n_graphs = 100\n",
    "#n_runs = 500\n",
    "\n",
    "xdata = np.linspace(1,21,10)\n",
    "arrow_length = 0.001\n",
    "markeredgecolordict = {2:'red',3:'orange',4:'yellow',6:'green',8:'cyan',10:'blue'}\n",
    "markerfacecolordict = {2:'red',3:'none',4:'none',6:'none',8:'cyan',10:'blue'}\n",
    "markerdict = {2:'+',3:'^',4:'s',6:'H',8:'s',10:'D'}\n",
    "\n",
    "n_datapoints = 10\n",
    "benefit_to_cost_ratios_IM = dict()\n",
    "benefit_to_cost_ratios_IM[2] = np.linspace(3.2,6,n_datapoints)\n",
    "benefit_to_cost_ratios_IM[3] = np.linspace(3.5,7,n_datapoints)\n",
    "benefit_to_cost_ratios_IM[4] = np.linspace(4,8,n_datapoints) \n",
    "benefit_to_cost_ratios_IM[6] = np.linspace(6,13,n_datapoints)\n",
    "benefit_to_cost_ratios_IM[8] = np.linspace(7,20,n_datapoints)\n",
    "benefit_to_cost_ratios_IM[10] = np.linspace(10,22,n_datapoints)\n",
    "\n",
    "def measure_fixation_probabilities_for_list_of_k_and_bc_values_IM(graph_generator, N, k_values, n_graphs, n_runs):\n",
    "    fp = FloatProgress(min=0,max=len(k_values))\n",
    "    display(fp)\n",
    "    fixation_probabilities = []\n",
    "    for k in k_values:\n",
    "        bc = benefit_to_cost_ratios_IM[k]\n",
    "        fixation_probabilities.append(measure_fixation_probabilities(graph_generator,[N,k],w,c,n_graphs,n_runs,bc,dview=dview, iteration_type = 0))\n",
    "        fp.value += 1\n",
    "    return fixation_probabilities"
   ]
  },
  {
   "cell_type": "markdown",
   "metadata": {
    "deletable": true,
    "editable": true
   },
   "source": [
    "### Circle and lattice graph"
   ]
  },
  {
   "cell_type": "code",
   "execution_count": 28,
   "metadata": {
    "collapsed": true,
    "deletable": true,
    "editable": true
   },
   "outputs": [],
   "source": [
    "#parameters and functions\n",
    "\n",
    "def circle_graph_generator(N,k):\n",
    "    G = nx.newman_watts_strogatz_graph(N,k,0)\n",
    "    return convert_networkx_graph_to_adjacency_list(G)\n",
    "\n",
    "circle_k_values = [2,4,6,10]\n",
    "\n",
    "def lattice_graph3(N1,N2):\n",
    "    G = create_hexagonal_lattice_graph(N1,N2)\n",
    "    return convert_networkx_graph_to_adjacency_list(G)\n",
    "def lattice_graph4(N1,N2):\n",
    "    G = create_square_lattice_graph4(N1,N2)\n",
    "    return convert_networkx_graph_to_adjacency_list(G)\n",
    "def lattice_graph6(N1,N2):\n",
    "    G = create_square_lattice_graph6(N1,N2)\n",
    "    return convert_networkx_graph_to_adjacency_list(G)\n",
    "def lattice_graph8(N1,N2):\n",
    "    G = create_triangular_lattice_graph(N1,N2)\n",
    "    return convert_networkx_graph_to_adjacency_list(G)\n",
    "\n",
    "lattice_k_values = [3,4,6,8]"
   ]
  },
  {
   "cell_type": "code",
   "execution_count": 66,
   "metadata": {
    "collapsed": true,
    "deletable": true,
    "editable": true
   },
   "outputs": [],
   "source": [
    "#simulation\n",
    "\n",
    "N = 100\n",
    "circle_fixation_probabilities_100_IM = measure_fixation_probabilities_for_list_of_k_and_bc_values_IM(circle_graph_generator, N, circle_k_values, n_graphs, n_runs)"
   ]
  },
  {
   "cell_type": "code",
   "execution_count": 68,
   "metadata": {
    "collapsed": true,
    "deletable": true,
    "editable": true
   },
   "outputs": [],
   "source": [
    "#simulation\n",
    "\n",
    "N = 100\n",
    "\n",
    "fp = FloatProgress(min=0,max=4)\n",
    "display(fp)\n",
    "\n",
    "lattice_fixation_probabilities3_100_IM = measure_fixation_probabilities(lattice_graph3,[10,15],w,c,n_graphs,n_runs,benefit_to_cost_ratios_IM[3],dview=dview, iteration_type = 0)\n",
    "fp.value += 1\n",
    "\n",
    "lattice_fixation_probabilities4_100_IM = measure_fixation_probabilities(lattice_graph4,[10,10],w,c,n_graphs,n_runs,benefit_to_cost_ratios_IM[4],dview=dview, iteration_type = 0)\n",
    "fp.value += 1\n",
    "\n",
    "lattice_fixation_probabilities6_100_IM = measure_fixation_probabilities(lattice_graph6,[10,10],w,c,n_graphs,n_runs,benefit_to_cost_ratios_IM[6],dview=dview, iteration_type = 0)\n",
    "fp.value += 1\n",
    "\n",
    "lattice_fixation_probabilities8_100_IM = measure_fixation_probabilities(lattice_graph8,[10,10],w,c,n_graphs,n_runs,benefit_to_cost_ratios_IM[8],dview=dview, iteration_type = 0)\n",
    "fp.value += 1\n",
    "\n",
    "lattice_fixation_probabilities_100_IM = [lattice_fixation_probabilities3_100_IM, lattice_fixation_probabilities4_100_IM, lattice_fixation_probabilities6_100_IM, lattice_fixation_probabilities8_100_IM]"
   ]
  },
  {
   "cell_type": "code",
   "execution_count": 29,
   "metadata": {
    "collapsed": false,
    "deletable": true,
    "editable": true
   },
   "outputs": [
    {
     "data": {
      "text/plain": [
       "<matplotlib.text.Text at 0x7fddd21fe310>"
      ]
     },
     "execution_count": 29,
     "metadata": {},
     "output_type": "execute_result"
    },
    {
     "data": {
      "image/png": "[encoded data removed]",
      "text/plain": [
       "<matplotlib.figure.Figure at 0x7fddd22f9050>"
      ]
     },
     "metadata": {},
     "output_type": "display_data"
    }
   ],
   "source": [
    "#visualization\n",
    "\n",
    "pl.rcParams['figure.figsize'] = (10,3)\n",
    "#pl.style.use('./style2plots.mplstyle') #to produce figures for the paper\n",
    "\n",
    "pl.subplot(1,2,1)\n",
    "pl.title(\"Circle graph\")\n",
    "for k,fp in zip(circle_k_values, circle_fixation_probabilities_100_IM):\n",
    "    pl.plot(benefit_to_cost_ratios_IM[k], fp, marker=markerdict[k], markersize = 2, markeredgewidth=1, markeredgecolor=markeredgecolordict[k], markerfacecolor=markerfacecolordict[k] ,linestyle='None')\n",
    "    pl.plot([k+2,k+2], [1/100.0 + arrow_length,1/100.0], color=markeredgecolordict[k])\n",
    "\n",
    "pl.plot(xdata, np.ones(len(xdata))/100.0,'k--',label='neutral')\n",
    "\n",
    "pl.xlim(1,21)\n",
    "pl.ylim(0.006,0.014)\n",
    "pl.yticks([0.006,0.008,0.010,0.012,0.014])\n",
    "pl.ylabel(\"fixation probability\")\n",
    "pl.xlabel(\"benefit-to-cost ratio b/c\")\n",
    "\n",
    "pl.subplot(1,2,2)\n",
    "pl.title(\"Lattice graph\")\n",
    "for k,fp in zip(lattice_k_values, lattice_fixation_probabilities_100_IM):\n",
    "    pl.plot(benefit_to_cost_ratios_IM[k], fp, marker=markerdict[k], markersize = 2, markeredgewidth=1, markeredgecolor=markeredgecolordict[k], markerfacecolor=markerfacecolordict[k] ,linestyle='None')\n",
    "    pl.plot([k+2,k+2], [1/100.0 + arrow_length,1/100.0], color=markeredgecolordict[k])\n",
    "\n",
    "pl.plot(xdata, np.ones(len(xdata))/100.0,'k--',label='neutral')\n",
    "\n",
    "pl.xlim(1,21)\n",
    "pl.ylim(0.006,0.014)\n",
    "pl.yticks([0.006,0.008,0.010,0.012,0.014])\n",
    "pl.xlabel(\"benefit-to-cost ratio b/c\")\n",
    "\n",
    "#pl.savefig('fixation_probabilities_imitation_circle_and_lattice.svg')"
   ]
  },
  {
   "cell_type": "markdown",
   "metadata": {
    "deletable": true,
    "editable": true
   },
   "source": [
    "### Random regular graph and random graph"
   ]
  },
  {
   "cell_type": "code",
   "execution_count": 30,
   "metadata": {
    "collapsed": true,
    "deletable": true,
    "editable": true
   },
   "outputs": [],
   "source": [
    "#parameters and functions \n",
    "\n",
    "def random_regular_graph_generator(N,k):\n",
    "    G = nx.random_regular_graph(k,N) \n",
    "    while not nx.is_connected(G):\n",
    "        G = nx.random_regular_graph(k,N)\n",
    "    return convert_networkx_graph_to_adjacency_list(G)\n",
    "\n",
    "random_regular_k_values = [3,4,6,10]\n",
    "\n",
    "def random_graph_generator(N,k):\n",
    "    G = create_connected_random_graph(N,k)\n",
    "    return convert_networkx_graph_to_adjacency_list(G)\n",
    "\n",
    "random_k_values = [3,4,6,10]"
   ]
  },
  {
   "cell_type": "code",
   "execution_count": 71,
   "metadata": {
    "collapsed": false,
    "deletable": true,
    "editable": true
   },
   "outputs": [],
   "source": [
    "#simulation\n",
    "\n",
    "N = 100\n",
    "random_regular_fixation_probabilities_100_IM = measure_fixation_probabilities_for_list_of_k_and_bc_values_IM(random_regular_graph_generator, N, random_regular_k_values, n_graphs, n_runs)"
   ]
  },
  {
   "cell_type": "code",
   "execution_count": 73,
   "metadata": {
    "collapsed": true,
    "deletable": true,
    "editable": true
   },
   "outputs": [],
   "source": [
    "#simulation\n",
    "\n",
    "N = 100\n",
    "random_fixation_probabilities_100_IM = measure_fixation_probabilities_for_list_of_k_and_bc_values_IM(random_graph_generator, N, random_k_values, n_graphs, n_runs)"
   ]
  },
  {
   "cell_type": "code",
   "execution_count": 31,
   "metadata": {
    "collapsed": false,
    "deletable": true,
    "editable": true
   },
   "outputs": [
    {
     "data": {
      "text/plain": [
       "<matplotlib.text.Text at 0x7fddd2afd310>"
      ]
     },
     "execution_count": 31,
     "metadata": {},
     "output_type": "execute_result"
    },
    {
     "data": {
      "image/png": "[encoded data removed]",
      "text/plain": [
       "<matplotlib.figure.Figure at 0x7fddd2b828d0>"
      ]
     },
     "metadata": {},
     "output_type": "display_data"
    }
   ],
   "source": [
    "#visualization\n",
    "\n",
    "pl.rcParams['figure.figsize'] = (10,3)\n",
    "#pl.style.use('./style2plots.mplstyle') #to produce figures for the paper\n",
    "\n",
    "pl.subplot(1,2,1)\n",
    "pl.title(\"Random regular graph\")\n",
    "for k,fp in zip(random_regular_k_values, random_regular_fixation_probabilities_100_IM):\n",
    "    pl.plot(benefit_to_cost_ratios_IM[k], fp, marker=markerdict[k], markersize = 2, markeredgewidth=1, markeredgecolor=markeredgecolordict[k], markerfacecolor=markerfacecolordict[k] ,linestyle='None')\n",
    "    pl.plot([k+2,k+2], [1/100.0 + arrow_length,1/100.0], color=markeredgecolordict[k])\n",
    "\n",
    "pl.plot(xdata, np.ones(len(xdata))/100.0,'k--',label='neutral')\n",
    "\n",
    "pl.xlim(1,21)\n",
    "pl.ylim(0.006,0.014)\n",
    "pl.yticks([0.006,0.008,0.010,0.012,0.014])\n",
    "pl.ylabel(\"fixation probability\")\n",
    "pl.xlabel(\"benefit-to-cost ratio b/c\")\n",
    "\n",
    "pl.subplot(1,2,2)\n",
    "pl.title(\"Random graph\")\n",
    "for k,fp in zip(random_k_values, random_fixation_probabilities_100_IM):\n",
    "    pl.plot(benefit_to_cost_ratios_IM[k], fp, marker=markerdict[k], markersize = 2, markeredgewidth=1, markeredgecolor=markeredgecolordict[k], markerfacecolor=markerfacecolordict[k] ,linestyle='None')\n",
    "    pl.plot([k+2,k+2], [1/100.0 + arrow_length,1/100.0], color=markeredgecolordict[k])\n",
    "\n",
    "pl.plot(xdata, np.ones(len(xdata))/100.0,'k--',label='neutral')\n",
    "\n",
    "pl.xlim(1,21)\n",
    "pl.ylim(0.006,0.014)\n",
    "pl.yticks([0.006,0.008,0.010,0.012,0.014])\n",
    "pl.xlabel(\"benefit-to-cost ratio b/c\")\n",
    "\n",
    "#pl.savefig('fixation_probabilities_imitation_randomregular_and_random.svg')"
   ]
  },
  {
   "cell_type": "markdown",
   "metadata": {
    "deletable": true,
    "editable": true
   },
   "source": [
    "### Scale-free graph"
   ]
  },
  {
   "cell_type": "code",
   "execution_count": 32,
   "metadata": {
    "collapsed": true,
    "deletable": true,
    "editable": true
   },
   "outputs": [],
   "source": [
    "#parameters and functions\n",
    "\n",
    "def scalefree_graph_generator(N,k):\n",
    "    G = nx.barabasi_albert_graph(N,k/2) # with k=2,4,6,10\n",
    "    while not nx.is_connected(G):\n",
    "        G = nx.barabasi_albert_graph(N,k/2)\n",
    "    return convert_networkx_graph_to_adjacency_list(G)\n",
    "\n",
    "scalefree_k_values = [2,4,6,10]"
   ]
  },
  {
   "cell_type": "code",
   "execution_count": 76,
   "metadata": {
    "collapsed": true,
    "deletable": true,
    "editable": true
   },
   "outputs": [],
   "source": [
    "#simulation\n",
    "\n",
    "N = 100\n",
    "scalefree_fixation_probabilities_100_IM = measure_fixation_probabilities_for_list_of_k_and_bc_values_IM(scalefree_graph_generator, N, scalefree_k_values, n_graphs, n_runs)"
   ]
  },
  {
   "cell_type": "code",
   "execution_count": 33,
   "metadata": {
    "collapsed": false,
    "deletable": true,
    "editable": true
   },
   "outputs": [
    {
     "data": {
      "text/plain": [
       "<matplotlib.axes._subplots.AxesSubplot at 0x7fddd2116ed0>"
      ]
     },
     "execution_count": 33,
     "metadata": {},
     "output_type": "execute_result"
    },
    {
     "data": {
      "image/png": "[encoded data removed]",
      "text/plain": [
       "<matplotlib.figure.Figure at 0x7fddd24c1d50>"
      ]
     },
     "metadata": {},
     "output_type": "display_data"
    }
   ],
   "source": [
    "#visualization\n",
    "\n",
    "pl.rcParams['figure.figsize'] = (10,3)\n",
    "#pl.style.use('./style2plots.mplstyle') #to produce figures for the paper\n",
    "\n",
    "pl.subplot(1,2,1)\n",
    "pl.title(\"Scale-free graph\")\n",
    "for k,fp in zip(scalefree_k_values, scalefree_fixation_probabilities_100_IM):\n",
    "    pl.plot(benefit_to_cost_ratios_IM[k], fp, marker=markerdict[k], markersize = 2, markeredgewidth=1, markeredgecolor=markeredgecolordict[k], markerfacecolor=markerfacecolordict[k] ,linestyle='None')\n",
    "    pl.plot([k+2,k+2], [1/100.0 + arrow_length,1/100.0], color=markeredgecolordict[k])\n",
    "\n",
    "pl.plot(xdata, np.ones(len(xdata))/100.0,'k--',label='neutral')\n",
    "\n",
    "pl.xlim(1,21)\n",
    "pl.ylim(0.006,0.014)\n",
    "pl.yticks([0.006,0.008,0.010,0.012,0.014])\n",
    "pl.ylabel(\"fixation probability\")\n",
    "pl.xlabel(\"benefit-to-cost ratio b/c\")\n",
    "\n",
    "pl.subplot(1,2,2)\n",
    "\n",
    "#pl.savefig('fixation_probabilities_imitation_scalefree.svg')"
   ]
  },
  {
   "cell_type": "markdown",
   "metadata": {
    "deletable": true,
    "editable": true
   },
   "source": [
    "## Save results"
   ]
  },
  {
   "cell_type": "code",
   "execution_count": null,
   "metadata": {
    "collapsed": false,
    "deletable": true,
    "editable": true
   },
   "outputs": [],
   "source": [
    "import pickle\n",
    "f = open(filename ,'w')\n",
    "\n",
    "datadict = dict()\n",
    "#Data of the simulations for finding the right value for the costs\n",
    "datadict['fixation_probabilities_cost_estimation'] = fixation_probabilities_cost_estimation\n",
    "#Data of the birth-death process for different graph types\n",
    "datadict['circle_fixation_probabilities_100'] = circle_fixation_probabilities_100\n",
    "datadict['circle_fixation_probabilities_500'] = circle_fixation_probabilities_500\n",
    "datadict['lattice_fixation_probabilities_100'] = lattice_fixation_probabilities_100\n",
    "datadict['lattice_fixation_probabilities_500'] = lattice_fixation_probabilities_500\n",
    "datadict['random_regular_fixation_probabilities_100'] = random_regular_fixation_probabilities_100\n",
    "datadict['random_regular_fixation_probabilities_500'] = random_regular_fixation_probabilities_500\n",
    "datadict['random_fixation_probabilities_100'] = random_fixation_probabilities_100\n",
    "datadict['random_fixation_probabilities_500'] = random_fixation_probabilities_500\n",
    "datadict['scalefree_fixation_probabilities_100'] = scalefree_fixation_probabilities_100\n",
    "datadict['scalefree_fixation_probabilities_500'] = scalefree_fixation_probabilities_500\n",
    "#Data of the imitation process for different graph types\n",
    "datadict['circle_fixation_probabilities_100_IM'] = circle_fixation_probabilities_100_IM\n",
    "datadict['lattice_fixation_probabilities_100_IM'] = lattice_fixation_probabilities_100_IM\n",
    "datadict['random_regular_fixation_probabilities_100_IM'] = random_regular_fixation_probabilities_100_IM\n",
    "datadict['random_fixation_probabilities_100_IM'] = random_fixation_probabilities_100_IM\n",
    "datadict['scalefree_fixation_probabilities_100_IM'] = scalefree_fixation_probabilities_100_IM\n",
    "\n",
    "pickle.dump(datadict, f)\n",
    "\n",
    "f.close()\n"
   ]
  },
  {
   "cell_type": "code",
   "execution_count": null,
   "metadata": {
    "collapsed": true,
    "deletable": true,
    "editable": true
   },
   "outputs": [],
   "source": []
  }
 ],
 "metadata": {
  "kernelspec": {
   "display_name": "Python 2",
   "language": "python",
   "name": "python2"
  },
  "language_info": {
   "codemirror_mode": {
    "name": "ipython",
    "version": 2
   },
   "file_extension": ".py",
   "mimetype": "text/x-python",
   "name": "python",
   "nbconvert_exporter": "python",
   "pygments_lexer": "ipython2",
   "version": "2.7.12"
  }
 },
 "nbformat": 4,
 "nbformat_minor": 0
}
